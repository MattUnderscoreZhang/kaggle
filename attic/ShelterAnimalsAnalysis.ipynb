{
 "cells": [
  {
   "cell_type": "code",
   "execution_count": 2,
   "metadata": {
    "collapsed": false
   },
   "outputs": [],
   "source": [
    "%matplotlib inline\n",
    "\n",
    "import pandas as pd\n",
    "import numpy as np\n",
    "\n",
    "import matplotlib.pyplot as plt\n",
    "\n",
    "from ggplot import *\n",
    "\n",
    "from sklearn.naive_bayes import GaussianNB, MultinomialNB\n",
    "from sklearn.metrics import accuracy_score\n",
    "\n",
    "import sys\n",
    "sys.path.append('/Users/wooyoung/workarea/Kaggle/Shelter-Animal-Outcomes/kaggle/libs/')\n",
    "\n",
    "import data_cleaning\n"
   ]
  },
  {
   "cell_type": "code",
   "execution_count": 3,
   "metadata": {
    "collapsed": true
   },
   "outputs": [],
   "source": [
    "df = pd.read_csv(\"data/train.csv\")"
   ]
  },
  {
   "cell_type": "code",
   "execution_count": 4,
   "metadata": {
    "collapsed": false
   },
   "outputs": [],
   "source": [
    "df = data_cleaning.classify_colors(df)\n",
    "df = data_cleaning.massage_df(df)"
   ]
  },
  {
   "cell_type": "code",
   "execution_count": 6,
   "metadata": {
    "collapsed": false
   },
   "outputs": [
    {
     "name": "stderr",
     "output_type": "stream",
     "text": [
      "/Users/wooyoung/miniconda2/lib/python2.7/site-packages/ipykernel/__main__.py:5: SettingWithCopyWarning: \n",
      "A value is trying to be set on a copy of a slice from a DataFrame.\n",
      "Try using .loc[row_indexer,col_indexer] = value instead\n",
      "\n",
      "See the caveats in the documentation: http://pandas.pydata.org/pandas-docs/stable/indexing.html#indexing-view-versus-copy\n"
     ]
    }
   ],
   "source": [
    "df_dog = df[df.AnimalType=='Dog']\n",
    "df_cat = df[df.AnimalType=='Cat']\n",
    "\n",
    "\n",
    "df_cat['catbreed'] = df_cat.Breed.apply(data_cleaning.fixCatBreed)"
   ]
  },
  {
   "cell_type": "markdown",
   "metadata": {},
   "source": [
    "# CATZZZ"
   ]
  },
  {
   "cell_type": "code",
   "execution_count": 7,
   "metadata": {
    "collapsed": true
   },
   "outputs": [],
   "source": [
    "cat_features = ['age_numeric', 'neuter_status', 'sex', 'mixed', 'catbreed']\n",
    "cat_features_dummies = ['age_numeric', 'neuter_status_Intact', 'neuter_status_Neutered',\n",
    "       'neuter_status_Spayed', 'neuter_status_Unknown', 'sex_Female',\n",
    "       'sex_Male', 'sex_Unknown', 'mixed_Mixed',\n",
    "       'catbreed_domestic longhair', 'catbreed_domestic mediumhair',\n",
    "       'catbreed_domestic shorthair', 'catbreed_rare', 'catbreed_siamese']\n",
    "colors = ['has_Blue', 'has_Tortie',\n",
    "       'has_White', 'has_Brown', 'has_Lilac', 'has_Point', 'has_Tabby',\n",
    "       'has_Gray', 'has_Agouti', 'has_Black', 'has_Lynx', 'has_Orange',\n",
    "       'has_Tan', 'has_Calico']"
   ]
  },
  {
   "cell_type": "code",
   "execution_count": 8,
   "metadata": {
    "collapsed": false,
    "scrolled": true
   },
   "outputs": [],
   "source": [
    "df_cat_dummies = pd.get_dummies(df_cat[cat_features + colors].dropna())"
   ]
  },
  {
   "cell_type": "code",
   "execution_count": 9,
   "metadata": {
    "collapsed": false
   },
   "outputs": [
    {
     "name": "stderr",
     "output_type": "stream",
     "text": [
      "/Users/wooyoung/miniconda2/lib/python2.7/site-packages/ipykernel/__main__.py:1: DeprecationWarning: using a non-integer number instead of an integer will result in an error in the future\n",
      "  if __name__ == '__main__':\n"
     ]
    }
   ],
   "source": [
    "rows = np.random.choice(df_cat_dummies.index.values, len(df_cat_dummies)*.666, replace=False)\n",
    "df_cat_dummies_train = df_cat_dummies.ix[rows]\n",
    "df_cat_dummies_test = df_cat_dummies.drop(rows)"
   ]
  },
  {
   "cell_type": "markdown",
   "metadata": {},
   "source": [
    "### Multinomial GB"
   ]
  },
  {
   "cell_type": "code",
   "execution_count": 10,
   "metadata": {
    "collapsed": false
   },
   "outputs": [
    {
     "data": {
      "text/plain": [
       "MultinomialNB(alpha=1.0, class_prior=None, fit_prior=True)"
      ]
     },
     "execution_count": 10,
     "metadata": {},
     "output_type": "execute_result"
    }
   ],
   "source": [
    "mnb = MultinomialNB()\n",
    "mnb.fit(df_cat_dummies_train[cat_features_dummies + colors], df_cat.ix[df_cat_dummies_train.index.values]['OutcomeType'])"
   ]
  },
  {
   "cell_type": "code",
   "execution_count": 11,
   "metadata": {
    "collapsed": false
   },
   "outputs": [
    {
     "data": {
      "text/plain": [
       "0.71230598669623058"
      ]
     },
     "execution_count": 11,
     "metadata": {},
     "output_type": "execute_result"
    }
   ],
   "source": [
    "predictions = mnb.predict(df_cat_dummies_test[cat_features_dummies + colors])\n",
    "accuracy_score(df_cat.ix[df_cat_dummies_test.index.values]['OutcomeType'], predictions)"
   ]
  },
  {
   "cell_type": "code",
   "execution_count": 14,
   "metadata": {
    "collapsed": false
   },
   "outputs": [
    {
     "data": {
      "text/plain": [
       "0.71319338245516473"
      ]
     },
     "execution_count": 14,
     "metadata": {},
     "output_type": "execute_result"
    }
   ],
   "source": [
    "predictions_train = mnb.predict(df_cat_dummies_train[cat_features_dummies + colors])\n",
    "accuracy_score(df_cat.ix[df_cat_dummies_train.index.values]['OutcomeType'], predictions_train)"
   ]
  },
  {
   "cell_type": "code",
   "execution_count": 13,
   "metadata": {
    "collapsed": false,
    "scrolled": true
   },
   "outputs": [
    {
     "name": "stdout",
     "output_type": "stream",
     "text": [
      "classes: ['Adoption' 'Died' 'Euthanasia' 'Return_to_owner' 'Transfer']\n",
      "\n",
      "[[ -1.77754091  -4.86381287  -2.70655002  -2.71473764  -9.91366888\n",
      "   -2.65244379  -2.65666617  -9.91366888  -1.9617575   -4.88978836\n",
      "   -4.43302996  -2.20795606  -5.24084005  -5.08535514  -3.92220433\n",
      "   -4.74888291  -2.98415211  -3.23658542  -7.27461155  -4.76037729\n",
      "   -2.71998306  -5.98184325  -9.2205217   -3.36401814  -5.87061761\n",
      "   -3.90240171  -5.00101399  -4.87671628]\n",
      " [ -1.93288633  -2.29920127  -4.49642585  -4.1397509   -4.1397509\n",
      "   -2.85881706  -2.68113588  -4.1397509   -1.97642788  -4.24511142\n",
      "   -4.65057653  -2.23764338  -5.05604164  -4.83289808  -3.95742935\n",
      "   -5.34372371  -2.94582844  -3.26428217  -6.442336    -4.49642585\n",
      "   -2.68113588  -5.05604164  -6.442336    -3.26428217  -5.74918882\n",
      "   -3.80327867  -4.24511142  -5.34372371]\n",
      " [ -0.99862053  -2.72779548  -4.13559604  -4.41845883  -4.34435086\n",
      "   -3.17120552  -2.97153985  -4.34435086  -2.24720974  -4.7061409\n",
      "   -4.84334202  -2.50040564  -6.29026101  -5.15082672  -4.29216511\n",
      "   -5.37397028  -3.16569586  -3.5656815   -7.27109026  -4.93571534\n",
      "   -2.98520749  -5.47933079  -8.36970255  -3.59901792  -6.06711746\n",
      "   -4.22656782  -5.23420833  -5.19164872]\n",
      " [ -0.88874144  -5.25454929  -2.9631375   -3.18207642  -6.53548314\n",
      "   -3.11448313  -2.92456523  -6.53548314  -2.31303857  -4.61856053\n",
      "   -5.20048207  -2.63958951  -4.88682451  -5.14918878  -4.27372004\n",
      "   -5.31170771  -3.28510865  -3.66758424  -7.45177387  -4.96686722\n",
      "   -3.12104053  -5.6600144   -7.45177387  -3.67901293  -5.57997169\n",
      "   -4.21309542  -5.37233233  -5.43687085]\n",
      " [ -1.8702119   -2.46552868  -3.91733765  -3.99304947  -3.87451765\n",
      "   -2.75744736  -2.8166442   -3.87451765  -1.9383497   -5.17846887\n",
      "   -4.45276908  -2.12662039  -5.87161605  -5.34619163  -3.93202837\n",
      "   -4.86001514  -2.98369828  -3.19039309  -7.45206642  -4.9494602\n",
      "   -2.69786066  -6.12083184 -10.09112375  -3.24950828  -6.15929812\n",
      "   -3.94265546  -5.07384392  -4.98517828]]\n"
     ]
    }
   ],
   "source": [
    "print 'classes:', mnb.classes_\n",
    "print '\\n', mnb.coef_"
   ]
  },
  {
   "cell_type": "code",
   "execution_count": 232,
   "metadata": {
    "collapsed": false,
    "scrolled": true
   },
   "outputs": [
    {
     "name": "stdout",
     "output_type": "stream",
     "text": [
      "Adoption\n",
      "age_numeric -1.78499331841\n",
      "neuter_status_Intact -4.82049181463\n",
      "neuter_status_Neutered -2.71456366974\n",
      "neuter_status_Spayed -2.70934950523\n",
      "neuter_status_Unknown -9.91424201543\n",
      "sex_Female -2.64045569759\n",
      "sex_Male -2.66644943367\n",
      "sex_Unknown -9.91424201543\n",
      "mixed_Mixed -1.96057223678\n",
      "catbreed_domestic longhair -4.99426108961\n",
      "catbreed_domestic mediumhair -4.36516593054\n",
      "catbreed_domestic shorthair -2.20493368205\n",
      "catbreed_rare -5.25080292132\n",
      "catbreed_siamese -5.11845146984\n",
      "has_Blue -3.89808485574\n",
      "has_Tortie -4.76674753862\n",
      "has_White -2.99455816559\n",
      "has_Brown -3.22464274626\n",
      "has_Lilac -7.83480047375\n",
      "has_Point -4.76095042094\n",
      "has_Tabby -2.70416238726\n",
      "has_Gray -5.85379900489\n",
      "has_Agouti -9.22109483487\n",
      "has_Black -3.3804531775\n",
      "has_Lynx -5.85379900489\n",
      "has_Orange -3.94298017564\n",
      "has_Tan -4.97259959282\n",
      "has_Calico -4.83283765045\n",
      "\n",
      "\n",
      "Died\n",
      "age_numeric -2.13790805604\n",
      "neuter_status_Intact -2.23944516602\n",
      "neuter_status_Neutered -4.78889033694\n",
      "neuter_status_Spayed -4.20110367204\n",
      "neuter_status_Unknown -4.09574315638\n",
      "sex_Female -2.96434104489\n",
      "sex_Male -2.56968685289\n",
      "sex_Unknown -4.09574315638\n",
      "mixed_Mixed -1.95567699289\n",
      "catbreed_domestic longhair -4.60656878015\n",
      "catbreed_domestic mediumhair -4.3188867077\n",
      "catbreed_domestic shorthair -2.1788205442\n",
      "catbreed_rare -5.70518106882\n",
      "catbreed_siamese -4.78889033694\n",
      "has_Blue -4.20110367204\n",
      "has_Tortie -5.70518106882\n",
      "has_White -2.70944879526\n",
      "has_Brown -3.17945242451\n",
      "has_Lilac -6.39832824938\n",
      "has_Point -4.45241810032\n",
      "has_Tabby -2.68475618267\n",
      "has_Gray -5.29971596071\n",
      "has_Agouti -6.39832824938\n",
      "has_Black -3.17945242451\n",
      "has_Lynx -5.29971596071\n",
      "has_Orange -3.83337889192\n",
      "has_Tan -4.45241810032\n",
      "has_Calico -5.01203388826\n",
      "\n",
      "\n",
      "Euthanasia\n",
      "age_numeric -1.01065357727\n",
      "neuter_status_Intact -2.73099803289\n",
      "neuter_status_Neutered -4.03364236472\n",
      "neuter_status_Spayed -4.47684780081\n",
      "neuter_status_Unknown -4.33374695717\n",
      "sex_Female -3.19698290254\n",
      "sex_Male -2.93503007605\n",
      "sex_Unknown -4.33374695717\n",
      "mixed_Mixed -2.23777611354\n",
      "catbreed_domestic longhair -4.79050535967\n",
      "catbreed_domestic mediumhair -4.6668914037\n",
      "catbreed_domestic shorthair -2.48005653021\n",
      "catbreed_rare -6.1255064264\n",
      "catbreed_siamese -5.5377197615\n",
      "has_Blue -4.30095713435\n",
      "has_Tortie -5.25003768905\n",
      "has_White -3.12478661133\n",
      "has_Brown -3.55289419619\n",
      "has_Lilac -7.73494433883\n",
      "has_Point -5.29259730346\n",
      "has_Tabby -3.00755652012\n",
      "has_Gray -5.48365254023\n",
      "has_Agouti -8.42809151939\n",
      "has_Black -3.47933162902\n",
      "has_Lynx -6.48218137034\n",
      "has_Orange -4.15142540038\n",
      "has_Tan -5.65550279715\n",
      "has_Calico -5.29259730346\n",
      "\n",
      "\n",
      "Return_to_owner\n",
      "age_numeric -0.913753501988\n",
      "neuter_status_Intact -5.02098842691\n",
      "neuter_status_Neutered -3.02658392792\n",
      "neuter_status_Spayed -3.11305752592\n",
      "neuter_status_Unknown -6.36472317361\n",
      "sex_Female -3.02068420579\n",
      "sex_Male -2.9859986478\n",
      "sex_Unknown -6.36472317361\n",
      "mixed_Mixed -2.29854948836\n",
      "catbreed_domestic longhair -4.63012211822\n",
      "catbreed_domestic mediumhair -5.26611088494\n",
      "catbreed_domestic shorthair -2.64305389668\n",
      "catbreed_rare -4.69074674004\n",
      "catbreed_siamese -5.06544018948\n",
      "has_Blue -4.39528252715\n",
      "has_Tortie -5.02098842691\n",
      "has_White -3.28894819239\n",
      "has_Brown -3.53150982956\n",
      "has_Lilac -7.46333546228\n",
      "has_Point -4.78918681285\n",
      "has_Tabby -3.08757844062\n",
      "has_Gray -5.75858737004\n",
      "has_Agouti -8.15648264284\n",
      "has_Black -3.77445600817\n",
      "has_Lynx -5.59153328538\n",
      "has_Orange -4.11343137501\n",
      "has_Tan -5.44843244174\n",
      "has_Calico -5.51742531323\n",
      "\n",
      "\n",
      "Transfer\n",
      "age_numeric -1.85783078789\n",
      "neuter_status_Intact -2.46724512452\n",
      "neuter_status_Neutered -3.9375445561\n",
      "neuter_status_Spayed -3.97255907394\n",
      "neuter_status_Unknown -3.87502419912\n",
      "sex_Female -2.75048822544\n",
      "sex_Male -2.82681954363\n",
      "sex_Unknown -3.87502419912\n",
      "mixed_Mixed -1.93955800922\n",
      "catbreed_domestic longhair -5.13082207131\n",
      "catbreed_domestic mediumhair -4.48116000269\n",
      "catbreed_domestic shorthair -2.12626361512\n",
      "catbreed_rare -5.84547545709\n",
      "catbreed_siamese -5.39745073456\n",
      "has_Blue -3.9483554722\n",
      "has_Tortie -4.85922613661\n",
      "has_White -2.98783984659\n",
      "has_Brown -3.17784475503\n",
      "has_Lilac -7.68168668889\n",
      "has_Point -5.01067775946\n",
      "has_Tabby -2.69932617326\n",
      "has_Gray -6.22943435997\n",
      "has_Agouti -10.0795819617\n",
      "has_Black -3.23051567905\n",
      "has_Lynx -6.16755895626\n",
      "has_Orange -4.00193971833\n",
      "has_Tan -5.13082207131\n",
      "has_Calico -4.93208748487\n",
      "\n",
      "\n"
     ]
    }
   ],
   "source": [
    "for j in range(len(mnb.classes_)):\n",
    "    print mnb.classes_[j]\n",
    "    for i in range(len(cat_features_dummies + colors)):\n",
    "        print (cat_features_dummies + colors)[i], mnb.coef_[j][i]\n",
    "    print '\\n'\n"
   ]
  }
 ],
 "metadata": {
  "kernelspec": {
   "display_name": "Python 2",
   "language": "python",
   "name": "python2"
  },
  "language_info": {
   "codemirror_mode": {
    "name": "ipython",
    "version": 2
   },
   "file_extension": ".py",
   "mimetype": "text/x-python",
   "name": "python",
   "nbconvert_exporter": "python",
   "pygments_lexer": "ipython2",
   "version": "2.7.11"
  }
 },
 "nbformat": 4,
 "nbformat_minor": 0
}
