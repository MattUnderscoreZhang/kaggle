{
 "cells": [
  {
   "cell_type": "code",
   "execution_count": 22,
   "metadata": {
    "collapsed": false
   },
   "outputs": [],
   "source": [
    "import numpy as np\n",
    "import pandas as pd\n",
    "\n",
    "from sklearn.cross_validation import train_test_split\n",
    "from sklearn import linear_model,tree,ensemble\n",
    "from sklearn.metrics import accuracy_score,log_loss\n",
    "from sklearn.grid_search import GridSearchCV\n",
    "\n",
    "import sys\n",
    "sys.path.insert(0,\"../libs\")\n",
    "import data_cleaning as dc"
   ]
  },
  {
   "cell_type": "code",
   "execution_count": 23,
   "metadata": {
    "collapsed": false
   },
   "outputs": [],
   "source": [
    "train = pd.read_csv(\"../data/train.csv\")\n",
    "train = train[train.AnimalType==\"Dog\"]\n",
    "train = dc.massage_df(train)"
   ]
  },
  {
   "cell_type": "code",
   "execution_count": 24,
   "metadata": {
    "collapsed": false
   },
   "outputs": [],
   "source": [
    "akc = pd.read_json(\"../breeds/akc.json\")\n",
    "manual = [pd.Series({\n",
    "    \"breed\":\"American Pit Bull Terrier\"\n",
    ",\"energy\":\"high\",\"group\":\"Terrier Group\"\n",
    ",\"rank\":-1,\"size\":\"medium\"})\n",
    "          ,pd.Series({\n",
    "    \"breed\":\"Miniature Poodle\"\n",
    ",\"energy\":\"medium\",\"group\":\"Toy Group\"\n",
    ",\"rank\":8,\"size\":\"small\"})]\n",
    "akc = akc.append(manual,ignore_index=True)"
   ]
  },
  {
   "cell_type": "code",
   "execution_count": 25,
   "metadata": {
    "collapsed": false
   },
   "outputs": [],
   "source": [
    "akc[\"dog_breed\"] = akc.breed.apply(lambda x:x.replace(\"Dog\",\"\").strip())"
   ]
  },
  {
   "cell_type": "code",
   "execution_count": 26,
   "metadata": {
    "collapsed": false
   },
   "outputs": [],
   "source": [
    "train[\"has_pit\"] = train.akc_name.apply(lambda x:True if \"Pit\" in x else \"False\")"
   ]
  },
  {
   "cell_type": "code",
   "execution_count": 27,
   "metadata": {
    "collapsed": false
   },
   "outputs": [],
   "source": [
    "counts = train.akc_name.value_counts()\n",
    "popular_breeds = counts[counts>100].index"
   ]
  },
  {
   "cell_type": "code",
   "execution_count": 35,
   "metadata": {
    "collapsed": false
   },
   "outputs": [],
   "source": [
    "missing = []\n",
    "for name in train.akc_name.unique():\n",
    "    if name in akc.dog_breed.values:\n",
    "        continue\n",
    "        entry = counts[counts.index==name]\n",
    "        print name,entry.values[0]\n",
    "    else:\n",
    "        #print name,len( train[ train.akc_name == name ] )\n",
    "        missing.append({\n",
    "                \"name\":name,\n",
    "                \"number\":len( train[ train.akc_name == name ] )\n",
    "            })\n",
    "    # end if\n",
    "# end for"
   ]
  },
  {
   "cell_type": "code",
   "execution_count": 36,
   "metadata": {
    "collapsed": true
   },
   "outputs": [],
   "source": [
    "miss_df = pd.DataFrame(missing)"
   ]
  },
  {
   "cell_type": "code",
   "execution_count": 32,
   "metadata": {
    "collapsed": false
   },
   "outputs": [
    {
     "data": {
      "text/plain": [
       "Adoption           0.429479\n",
       "Return_to_owner    0.294790\n",
       "Transfer           0.231258\n",
       "Euthanasia         0.040661\n",
       "Died               0.003812\n",
       "Name: OutcomeType, dtype: float64"
      ]
     },
     "execution_count": 32,
     "metadata": {},
     "output_type": "execute_result"
    }
   ],
   "source": [
    "sel = train.dog_breed==\"German Shepherd\"\n",
    "train[sel].OutcomeType.value_counts()/len(train[sel])"
   ]
  },
  {
   "cell_type": "code",
   "execution_count": 31,
   "metadata": {
    "collapsed": false
   },
   "outputs": [
    {
     "data": {
      "text/plain": [
       "Adoption           0.389423\n",
       "Return_to_owner    0.360577\n",
       "Transfer           0.201923\n",
       "Euthanasia         0.048077\n",
       "Name: OutcomeType, dtype: float64"
      ]
     },
     "execution_count": 31,
     "metadata": {},
     "output_type": "execute_result"
    }
   ],
   "source": [
    "sel = train.dog_breed==\"Yorkshire Terrier\"\n",
    "train[sel].OutcomeType.value_counts()/len(train[sel])"
   ]
  },
  {
   "cell_type": "code",
   "execution_count": 28,
   "metadata": {
    "collapsed": false
   },
   "outputs": [
    {
     "data": {
      "text/plain": [
       "Adoption           0.439978\n",
       "Return_to_owner    0.267448\n",
       "Transfer           0.244556\n",
       "Euthanasia         0.044668\n",
       "Died               0.003350\n",
       "Name: OutcomeType, dtype: float64"
      ]
     },
     "execution_count": 28,
     "metadata": {},
     "output_type": "execute_result"
    }
   ],
   "source": [
    "sel = train.dog_breed==\"Labrador Retriever\"\n",
    "train[sel].OutcomeType.value_counts()/len(train[sel])"
   ]
  },
  {
   "cell_type": "code",
   "execution_count": 42,
   "metadata": {
    "collapsed": false
   },
   "outputs": [
    {
     "data": {
      "text/plain": [
       "Adoption           0.423559\n",
       "Return_to_owner    0.272763\n",
       "Transfer           0.259588\n",
       "Euthanasia         0.039786\n",
       "Died               0.004305\n",
       "Name: OutcomeType, dtype: float64"
      ]
     },
     "execution_count": 42,
     "metadata": {},
     "output_type": "execute_result"
    }
   ],
   "source": [
    "sel = train.energy == \"medium\"\n",
    "train[sel].OutcomeType.value_counts()/len(train[sel])"
   ]
  },
  {
   "cell_type": "code",
   "execution_count": 28,
   "metadata": {
    "collapsed": false
   },
   "outputs": [],
   "source": [
    "# restrict training set by available data\n",
    "train = train[ train.akc_name.apply(lambda x:x in akc.dog_breed.values) ]"
   ]
  },
  {
   "cell_type": "code",
   "execution_count": 29,
   "metadata": {
    "collapsed": false
   },
   "outputs": [],
   "source": [
    "akc_dict = akc[[\"dog_breed\",\"energy\",\"rank\",\"size\"]].set_index(\"dog_breed\").to_dict()\n",
    "for key in akc_dict.keys():\n",
    "    train[key] = train.akc_name.apply(lambda x:akc_dict[key][x])\n",
    "# end for"
   ]
  },
  {
   "cell_type": "code",
   "execution_count": 30,
   "metadata": {
    "collapsed": true
   },
   "outputs": [],
   "source": [
    "mytrain,mytest = train_test_split(train,test_size=0.4)"
   ]
  },
  {
   "cell_type": "code",
   "execution_count": 35,
   "metadata": {
    "collapsed": false
   },
   "outputs": [
    {
     "name": "stdout",
     "output_type": "stream",
     "text": [
      "train utilization: 1.000\n",
      "test utilization: 1.000\n"
     ]
    }
   ],
   "source": [
    "features = [\"neuter_status\",\"age_numeric_years\",\"is_weekend\",\n",
    "            \"has_pit\",\"energy\",\"size\",\"rank\"]\n",
    "# these features are linear combinations of the others\n",
    "drop_features = [\"neuter_status_Unknown\"]\n",
    "\n",
    "usable_mytrain_idx = mytrain[features].dropna().index\n",
    "print \"train utilization: %1.3f\" % (float(len(usable_mytrain_idx))/len(mytrain))\n",
    "mytrain = mytrain.ix[ usable_mytrain_idx ]\n",
    "usable_mytest_idx = mytest[features].dropna().index\n",
    "print \"test utilization: %1.3f\" % (float(len(usable_mytest_idx))/len(mytest))\n",
    "mytest = mytest.ix[ usable_mytest_idx ]\n",
    "\n",
    "mytrain_features = pd.get_dummies(mytrain[features])\n",
    "mytrain_features = mytrain_features.drop(drop_features,axis=1)\n",
    "mytrain_outcomes = mytrain.OutcomeType\n",
    "\n",
    "mytest_features = pd.get_dummies(mytest[features])\n",
    "mytest_features = mytest_features.drop(drop_features,axis=1)\n",
    "mytest_outcomes = mytest.OutcomeType"
   ]
  },
  {
   "cell_type": "code",
   "execution_count": 36,
   "metadata": {
    "collapsed": true
   },
   "outputs": [],
   "source": [
    "#estimators = ensemble.AdaBoostClassifier(\n",
    "#    tree.DecisionTreeClassifier(max_depth=2)\n",
    "#    ,n_estimators=500\n",
    "#)\n",
    "#estimators = ensemble.AdaBoostClassifier(\n",
    "#    tree.DecisionTreeClassifier(max_depth=3) )\n",
    "#parameters = {\n",
    "    #'max_depth' : list(range(1,10)),\n",
    "    #'min_samples_split' : list(range(2,10))\n",
    "#    'n_estimators' : [10,50,100,200,500]\n",
    "#}"
   ]
  },
  {
   "cell_type": "code",
   "execution_count": 37,
   "metadata": {
    "collapsed": false
   },
   "outputs": [],
   "source": [
    "#classifier = GridSearchCV(estimators,parameters,n_jobs=8)"
   ]
  },
  {
   "cell_type": "code",
   "execution_count": 56,
   "metadata": {
    "collapsed": false
   },
   "outputs": [],
   "source": [
    "# build classifier\n",
    "#classifier = linear_model.LogisticRegression()\n",
    "#classifier = tree.DecisionTreeClassifier(max_depth=3)\n",
    "#classifier = ensemble.RandomForestClassifier(max_depth=6)\n",
    "#classifier = ensemble.AdaBoostClassifier(\n",
    "#    tree.DecisionTreeClassifier(max_depth=2)\n",
    "#    ,n_estimators=500\n",
    "#)\n",
    "classifier = GridSearchCV(\n",
    "    ensemble.GradientBoostingClassifier(),\n",
    "    {\"min_samples_leaf\":[1,2],\"max_depth\":[2,3,4,5,6]},\n",
    "    scoring=\"log_loss\",\n",
    "    n_jobs=4\n",
    ")\n",
    "\n",
    "# train\n",
    "classifier.fit(mytrain_features,mytrain_outcomes);"
   ]
  },
  {
   "cell_type": "code",
   "execution_count": 58,
   "metadata": {
    "collapsed": false
   },
   "outputs": [
    {
     "name": "stdout",
     "output_type": "stream",
     "text": [
      "accuracy = 0.55 \n",
      "log-loss = 1.019\n"
     ]
    }
   ],
   "source": [
    "predictions = classifier.predict(mytest_features)\n",
    "prediction_probabilities = classifier.predict_proba(mytest_features)\n",
    "\n",
    "# check performance\n",
    "acc = accuracy_score(mytest_outcomes, predictions)\n",
    "los = log_loss( pd.get_dummies( mytest.OutcomeType ).values, prediction_probabilities)\n",
    "print(\"accuracy = {0:1.2f} \\nlog-loss = {1:1.3f}\".format(acc,los) )"
   ]
  },
  {
   "cell_type": "code",
   "execution_count": 26,
   "metadata": {
    "collapsed": false
   },
   "outputs": [
    {
     "data": {
      "text/plain": [
       "Adoption           2525\n",
       "Return_to_owner    1779\n",
       "Transfer           1190\n",
       "Euthanasia          132\n",
       "Died                  8\n",
       "dtype: int64"
      ]
     },
     "execution_count": 26,
     "metadata": {},
     "output_type": "execute_result"
    }
   ],
   "source": [
    "pd.Series(predictions).value_counts()"
   ]
  },
  {
   "cell_type": "markdown",
   "metadata": {},
   "source": [
    "I predict lots of happy adoptions. In practice, there are many more transfers and euthanasia ..."
   ]
  },
  {
   "cell_type": "code",
   "execution_count": 23,
   "metadata": {
    "collapsed": false
   },
   "outputs": [
    {
     "data": {
      "text/plain": [
       "Adoption           2322\n",
       "Return_to_owner    1586\n",
       "Transfer           1404\n",
       "Euthanasia          309\n",
       "Died                 13\n",
       "Name: OutcomeType, dtype: int64"
      ]
     },
     "execution_count": 23,
     "metadata": {},
     "output_type": "execute_result"
    }
   ],
   "source": [
    "mytest_outcomes.value_counts()"
   ]
  }
 ],
 "metadata": {
  "kernelspec": {
   "display_name": "Python 2",
   "language": "python",
   "name": "python2"
  },
  "language_info": {
   "codemirror_mode": {
    "name": "ipython",
    "version": 2
   },
   "file_extension": ".py",
   "mimetype": "text/x-python",
   "name": "python",
   "nbconvert_exporter": "python",
   "pygments_lexer": "ipython2",
   "version": "2.7.11+"
  }
 },
 "nbformat": 4,
 "nbformat_minor": 0
}
