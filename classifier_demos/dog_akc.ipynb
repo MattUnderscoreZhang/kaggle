{
 "cells": [
  {
   "cell_type": "code",
   "execution_count": 1,
   "metadata": {
    "collapsed": false
   },
   "outputs": [],
   "source": [
    "import numpy as np\n",
    "import pandas as pd\n",
    "\n",
    "from sklearn.cross_validation import train_test_split\n",
    "from sklearn import linear_model,tree,ensemble\n",
    "from sklearn.metrics import accuracy_score,log_loss\n",
    "\n",
    "import sys\n",
    "sys.path.insert(0,\"../libs\")\n",
    "import data_cleaning as dc"
   ]
  },
  {
   "cell_type": "code",
   "execution_count": 37,
   "metadata": {
    "collapsed": false
   },
   "outputs": [],
   "source": [
    "train = pd.read_csv(\"../data/train.csv\")\n",
    "train = train[train.AnimalType==\"Dog\"]\n",
    "train = dc.massage_df(train)"
   ]
  },
  {
   "cell_type": "code",
   "execution_count": 78,
   "metadata": {
    "collapsed": false
   },
   "outputs": [],
   "source": [
    "akc = pd.read_json(\"../breeds/akc.json\")\n",
    "manual = [pd.Series({\n",
    "    \"breed\":\"American Pit Bull Terrier\"\n",
    ",\"energy\":\"high\",\"group\":\"Terrier Group\"\n",
    ",\"rank\":-1,\"size\":\"medium\"})\n",
    "          ,pd.Series({\n",
    "    \"breed\":\"Miniature Poodle\"\n",
    ",\"energy\":\"medium\",\"group\":\"Toy Group\"\n",
    ",\"rank\":8,\"size\":\"small\"})]\n",
    "akc = akc.append(manual,ignore_index=True)"
   ]
  },
  {
   "cell_type": "code",
   "execution_count": 79,
   "metadata": {
    "collapsed": false
   },
   "outputs": [],
   "source": [
    "akc[\"dog_breed\"] = akc.breed.apply(lambda x:x.replace(\"Dog\",\"\").strip())"
   ]
  },
  {
   "cell_type": "code",
   "execution_count": 84,
   "metadata": {
    "collapsed": false
   },
   "outputs": [],
   "source": [
    "counts = train.akc_name.value_counts()\n",
    "popular_breeds = counts[counts>100].index"
   ]
  },
  {
   "cell_type": "code",
   "execution_count": 91,
   "metadata": {
    "collapsed": false
   },
   "outputs": [],
   "source": [
    "# restrict training set by available data\n",
    "train = train[ train.akc_name.apply(lambda x:x in akc.dog_breed.values) ]"
   ]
  },
  {
   "cell_type": "code",
   "execution_count": 107,
   "metadata": {
    "collapsed": false
   },
   "outputs": [],
   "source": [
    "akc_dict = akc[[\"dog_breed\",\"energy\",\"rank\",\"size\"]].set_index(\"dog_breed\").to_dict()\n",
    "for key in akc_dict.keys():\n",
    "    train[key] = train.akc_name.apply(lambda x:akc_dict[key][x])\n",
    "# end for"
   ]
  },
  {
   "cell_type": "code",
   "execution_count": 114,
   "metadata": {
    "collapsed": true
   },
   "outputs": [],
   "source": [
    "mytrain,mytest = train_test_split(train,test_size=0.4)"
   ]
  },
  {
   "cell_type": "code",
   "execution_count": 146,
   "metadata": {
    "collapsed": false
   },
   "outputs": [
    {
     "name": "stdout",
     "output_type": "stream",
     "text": [
      "train utilization: 1.000\n",
      "test utilization: 1.000\n"
     ]
    }
   ],
   "source": [
    "features = [\"neuter_status\",\"age_numeric_years\",\"is_weekend\"\n",
    "            ,\"energy\",\"size\",\"rank\"]\n",
    "# these features are linear combinations of the others\n",
    "drop_features = [\"neuter_status_Unknown\"]\n",
    "\n",
    "usable_mytrain_idx = mytrain[features].dropna().index\n",
    "print \"train utilization: %1.3f\" % (float(len(usable_mytrain_idx))/len(mytrain))\n",
    "mytrain = mytrain.ix[ usable_mytrain_idx ]\n",
    "usable_mytest_idx = mytest[features].dropna().index\n",
    "print \"test utilization: %1.3f\" % (float(len(usable_mytest_idx))/len(mytest))\n",
    "mytest = mytest.ix[ usable_mytest_idx ]\n",
    "\n",
    "mytrain_features = pd.get_dummies(mytrain[features])\n",
    "mytrain_features = mytrain_features.drop(drop_features,axis=1)\n",
    "mytrain_outcomes = mytrain.OutcomeType\n",
    "\n",
    "mytest_features = pd.get_dummies(mytest[features])\n",
    "mytest_features = mytest_features.drop(drop_features,axis=1)\n",
    "mytest_outcomes = mytest.OutcomeType"
   ]
  },
  {
   "cell_type": "code",
   "execution_count": 147,
   "metadata": {
    "collapsed": false
   },
   "outputs": [],
   "source": [
    "# build classifier\n",
    "#classifier = linear_model.LogisticRegression()\n",
    "#classifier = tree.DecisionTreeClassifier(max_depth=3)\n",
    "classifier = ensemble.RandomForestClassifier(max_depth=6)\n",
    "\n",
    "# train\n",
    "classifier.fit(mytrain_features,mytrain_outcomes);"
   ]
  },
  {
   "cell_type": "code",
   "execution_count": 148,
   "metadata": {
    "collapsed": false
   },
   "outputs": [
    {
     "name": "stdout",
     "output_type": "stream",
     "text": [
      "accuracy = 0.56 \n",
      "log-loss = 1.025\n"
     ]
    }
   ],
   "source": [
    "predictions = classifier.predict(mytest_features)\n",
    "prediction_probabilities = classifier.predict_proba(mytest_features)\n",
    "\n",
    "# check performance\n",
    "acc = accuracy_score(mytest_outcomes, predictions)\n",
    "los = log_loss( pd.get_dummies( mytest.OutcomeType ).values, prediction_probabilities)\n",
    "print(\"accuracy = {0:1.2f} \\nlog-loss = {1:1.3f}\".format(acc,los) )"
   ]
  },
  {
   "cell_type": "code",
   "execution_count": 149,
   "metadata": {
    "collapsed": false
   },
   "outputs": [
    {
     "data": {
      "text/plain": [
       "Adoption           3274\n",
       "Return_to_owner    1420\n",
       "Transfer            937\n",
       "Euthanasia            3\n",
       "dtype: int64"
      ]
     },
     "execution_count": 149,
     "metadata": {},
     "output_type": "execute_result"
    }
   ],
   "source": [
    "pd.Series(predictions).value_counts()"
   ]
  },
  {
   "cell_type": "markdown",
   "metadata": {},
   "source": [
    "I predict lots of happy adoptions. In practice, there are many more transfers and euthanasia ..."
   ]
  },
  {
   "cell_type": "code",
   "execution_count": 150,
   "metadata": {
    "collapsed": false
   },
   "outputs": [
    {
     "data": {
      "text/plain": [
       "Adoption           2335\n",
       "Return_to_owner    1571\n",
       "Transfer           1422\n",
       "Euthanasia          293\n",
       "Died                 13\n",
       "Name: OutcomeType, dtype: int64"
      ]
     },
     "execution_count": 150,
     "metadata": {},
     "output_type": "execute_result"
    }
   ],
   "source": [
    "mytest_outcomes.value_counts()"
   ]
  }
 ],
 "metadata": {
  "kernelspec": {
   "display_name": "Python 2",
   "language": "python",
   "name": "python2"
  },
  "language_info": {
   "codemirror_mode": {
    "name": "ipython",
    "version": 2
   },
   "file_extension": ".py",
   "mimetype": "text/x-python",
   "name": "python",
   "nbconvert_exporter": "python",
   "pygments_lexer": "ipython2",
   "version": "2.7.11+"
  }
 },
 "nbformat": 4,
 "nbformat_minor": 0
}
