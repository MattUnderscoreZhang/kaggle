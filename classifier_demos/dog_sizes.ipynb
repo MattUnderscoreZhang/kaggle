{
 "cells": [
  {
   "cell_type": "code",
   "execution_count": 1,
   "metadata": {
    "collapsed": false
   },
   "outputs": [],
   "source": [
    "import numpy as np\n",
    "import pandas as pd\n",
    "\n",
    "from sklearn.cross_validation import train_test_split\n",
    "from sklearn import linear_model,tree,ensemble\n",
    "from sklearn.metrics import accuracy_score,log_loss\n",
    "\n",
    "import sys\n",
    "sys.path.insert(0,\"../libs\")\n",
    "import data_cleaning as dc"
   ]
  },
  {
   "cell_type": "code",
   "execution_count": 2,
   "metadata": {
    "collapsed": false
   },
   "outputs": [],
   "source": [
    "train = pd.read_csv(\"../data/train.csv\")\n",
    "train = train[train.AnimalType==\"Dog\"]\n",
    "train = dc.massage_df(train)"
   ]
  },
  {
   "cell_type": "code",
   "execution_count": 3,
   "metadata": {
    "collapsed": true
   },
   "outputs": [],
   "source": [
    "# add dog_size feature\n",
    "sizes = pd.read_json(\"../breeds/size.json\")\n",
    "size_dict = sizes.set_index(\"breed\").to_dict()[\"size\"]\n",
    "train[\"dog_size\"] = train.dog_breed.apply(lambda x:size_dict[x] \n",
    "        if x in size_dict.keys() else \"other\")"
   ]
  },
  {
   "cell_type": "code",
   "execution_count": 4,
   "metadata": {
    "collapsed": true
   },
   "outputs": [],
   "source": [
    "mytrain,mytest = train_test_split(train,test_size=0.4)"
   ]
  },
  {
   "cell_type": "code",
   "execution_count": 5,
   "metadata": {
    "collapsed": false
   },
   "outputs": [
    {
     "name": "stdout",
     "output_type": "stream",
     "text": [
      "train utilization: 1.000\n",
      "test utilization: 1.000\n"
     ]
    }
   ],
   "source": [
    "features = [\"neuter_status\",\"age_numeric_years\",\"is_weekend\",\"dog_size\"]\n",
    "# these features are linear combinations of the others\n",
    "drop_features = [\"neuter_status_Unknown\",\"dog_size_other\"]\n",
    "\n",
    "usable_mytrain_idx = mytrain[features].dropna().index\n",
    "print \"train utilization: %1.3f\" % (float(len(usable_mytrain_idx))/len(mytrain))\n",
    "mytrain = mytrain.ix[ usable_mytrain_idx ]\n",
    "usable_mytest_idx = mytest[features].dropna().index\n",
    "print \"test utilization: %1.3f\" % (float(len(usable_mytest_idx))/len(mytest))\n",
    "mytest = mytest.ix[ usable_mytest_idx ]\n",
    "\n",
    "mytrain_features = pd.get_dummies(mytrain[features])\n",
    "mytrain_features = mytrain_features.drop(drop_features,axis=1)\n",
    "mytrain_outcomes = mytrain.OutcomeType\n",
    "\n",
    "mytest_features = pd.get_dummies(mytest[features])\n",
    "mytest_features = mytest_features.drop(drop_features,axis=1)\n",
    "mytest_outcomes = mytest.OutcomeType"
   ]
  },
  {
   "cell_type": "code",
   "execution_count": 6,
   "metadata": {
    "collapsed": false
   },
   "outputs": [],
   "source": [
    "# build classifier\n",
    "#classifier = linear_model.LogisticRegression()\n",
    "#classifier = tree.DecisionTreeClassifier(max_depth=3)\n",
    "classifier = ensemble.RandomForestClassifier(max_depth=6)\n",
    "\n",
    "# train\n",
    "classifier.fit(mytrain_features,mytrain_outcomes);"
   ]
  },
  {
   "cell_type": "code",
   "execution_count": 7,
   "metadata": {
    "collapsed": false
   },
   "outputs": [
    {
     "name": "stdout",
     "output_type": "stream",
     "text": [
      "accuracy = 0.55 \n",
      "log-loss = 1.044\n"
     ]
    }
   ],
   "source": [
    "predictions = classifier.predict(mytest_features)\n",
    "prediction_probabilities = classifier.predict_proba(mytest_features)\n",
    "\n",
    "# check performance\n",
    "acc = accuracy_score(mytest_outcomes, predictions)\n",
    "los = log_loss( pd.get_dummies( mytest.OutcomeType ).values, prediction_probabilities)\n",
    "print(\"accuracy = {0:1.2f} \\nlog-loss = {1:1.3f}\".format(acc,los) )"
   ]
  }
 ],
 "metadata": {
  "kernelspec": {
   "display_name": "Python 2",
   "language": "python",
   "name": "python2"
  },
  "language_info": {
   "codemirror_mode": {
    "name": "ipython",
    "version": 2
   },
   "file_extension": ".py",
   "mimetype": "text/x-python",
   "name": "python",
   "nbconvert_exporter": "python",
   "pygments_lexer": "ipython2",
   "version": "2.7.11+"
  }
 },
 "nbformat": 4,
 "nbformat_minor": 0
}
