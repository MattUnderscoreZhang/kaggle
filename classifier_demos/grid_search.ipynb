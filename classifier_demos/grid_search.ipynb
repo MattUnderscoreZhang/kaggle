{
 "cells": [
  {
   "cell_type": "code",
   "execution_count": null,
   "metadata": {
    "collapsed": false
   },
   "outputs": [],
   "source": [
    "import pandas as pd\n",
    "import numpy as np\n",
    "import matplotlib.pyplot as plt\n",
    "%matplotlib inline\n",
    "from imp import reload\n",
    "\n",
    "from sklearn import naive_bayes, tree, ensemble\n",
    "from sklearn.externals.six import StringIO\n",
    "from sklearn.metrics import accuracy_score, log_loss\n",
    "import sklearn as sk\n",
    "\n",
    "import sys\n",
    "sys.path.insert(0,'../libs/')\n",
    "import data_cleaning as dc\n",
    "import explore as expl\n",
    "import logloss as bof"
   ]
  },
  {
   "cell_type": "code",
   "execution_count": null,
   "metadata": {
    "collapsed": false
   },
   "outputs": [],
   "source": [
    "reload(expl)\n",
    "alldf, dummydf = expl.load_data(\"../data/train.csv\")\n",
    "\n",
    "# splits data.\n",
    "rows = np.random.choice(dummydf.index.values,\n",
    "  int( round(len(dummydf)*.6) ), replace=False)\n",
    "alldf_train = dummydf.ix[rows]\n",
    "alldf_test = dummydf.drop(rows)\n",
    "alldf_dummies_train = dummydf.ix[rows]\n",
    "alldf_dummies_test = dummydf.drop(rows)"
   ]
  },
  {
   "cell_type": "code",
   "execution_count": null,
   "metadata": {
    "collapsed": false
   },
   "outputs": [],
   "source": [
    "alldf['OutcomeType'].value_counts()"
   ]
  },
  {
   "cell_type": "code",
   "execution_count": null,
   "metadata": {
    "collapsed": false
   },
   "outputs": [],
   "source": [
    "# Naive Bayes\n",
    "train_features = alldf_dummies_train\n",
    "train_outcomes = alldf.ix[alldf_dummies_train.index]['OutcomeType']\n",
    "test_features  = alldf_dummies_test\n",
    "test_outcomes  = alldf.ix[alldf_dummies_test.index]['OutcomeType']\n",
    "\n",
    "bnb = naive_bayes.BernoulliNB()\n",
    "bnb.fit(train_features,train_outcomes)\n",
    "\n",
    "predictions = bnb.predict(test_features)\n",
    "print(\"Accuracy:\",accuracy_score(test_outcomes,predictions))\n",
    "print()\n",
    "print(\"Predictions:\\n\",pd.Series(predictions).value_counts())\n",
    "probabilities = bnb.predict_proba(test_features)\n",
    "print()\n",
    "print(\"Log loss:\",log_loss(test_outcomes,probabilities))"
   ]
  },
  {
   "cell_type": "code",
   "execution_count": null,
   "metadata": {
    "collapsed": false
   },
   "outputs": [],
   "source": [
    "# Decision Tree.\n",
    "# splits data.\n",
    "rows = np.random.choice(dummydf.index.values,\n",
    "  int( round(len(dummydf)*.6) ), replace=False)\n",
    "alldf_train = dummydf.ix[rows]\n",
    "alldf_test = dummydf.drop(rows)\n",
    "alldf_dummies_train = dummydf.ix[rows]\n",
    "alldf_dummies_test = dummydf.drop(rows)\n",
    "\n",
    "train_features = alldf_train\n",
    "train_outcomes = alldf.ix[alldf_train.index]['OutcomeType']\n",
    "test_features  = alldf_test\n",
    "test_outcomes  = alldf.ix[alldf_test.index]['OutcomeType']\n",
    "\n",
    "bnb = tree.DecisionTreeClassifier(max_depth=6)\n",
    "bnb.fit(train_features,train_outcomes)\n",
    "\n",
    "predictions = bnb.predict(test_features)\n",
    "print(\"Accuracy:\",accuracy_score(test_outcomes,predictions))\n",
    "print()\n",
    "print(\"Predictions:\\n\",pd.Series(predictions).value_counts())\n",
    "probabilities = bnb.predict_proba(test_features)\n",
    "print()\n",
    "print(\"Log loss:\",log_loss(test_outcomes,probabilities))\n",
    "from sklearn.externals.six import StringIO\n",
    "with open(\"iris.dot\", 'w') as f:\n",
    "    f = tree.export_graphviz(\n",
    "        bnb,\n",
    "        feature_names=alldf_train.columns,\n",
    "        class_names=bnb.classes_,\n",
    "        out_file=f)"
   ]
  },
  {
   "cell_type": "code",
   "execution_count": null,
   "metadata": {
    "collapsed": false
   },
   "outputs": [],
   "source": [
    "# Series of trees, try different depths.\n",
    "accuracies, log_losses = [],[]\n",
    "max_depths = range(1,10)\n",
    "for max_depth in max_depths:\n",
    "    train_features = alldf_train\n",
    "    train_outcomes = alldf.ix[alldf_train.index]['OutcomeType']\n",
    "    test_features  = alldf_test\n",
    "    test_outcomes  = alldf.ix[alldf_test.index]['OutcomeType']\n",
    "\n",
    "    bnb = tree.DecisionTreeClassifier(max_depth=max_depth)\n",
    "    bnb.fit(train_features,train_outcomes,)\n",
    "\n",
    "    predictions = bnb.predict(test_features)\n",
    "    accuracies.append(accuracy_score(test_outcomes,predictions))\n",
    "    probabilities = bnb.predict_proba(test_features)\n",
    "    log_losses.append(log_loss(test_outcomes,probabilities))\n"
   ]
  },
  {
   "cell_type": "code",
   "execution_count": null,
   "metadata": {
    "collapsed": false
   },
   "outputs": [],
   "source": [
    "# Check performances of trees.\n",
    "fig,ax = plt.subplots(3,1)\n",
    "ax[0].plot(max_depths,accuracies)\n",
    "ax[1].plot(max_depths,log_losses)\n",
    "ax[2].plot(accuracies,log_losses,'o')\n",
    "#for a in ax: pt.fix_lims(a)\n",
    "fig.set_size_inches(4,8)\n",
    "fig.tight_layout()"
   ]
  },
  {
   "cell_type": "code",
   "execution_count": null,
   "metadata": {
    "collapsed": false
   },
   "outputs": [],
   "source": [
    "# Directly optimize parameters.\n",
    "train_features = alldf_train\n",
    "train_outcomes = alldf.ix[alldf_train.index]['OutcomeType']\n",
    "test_features  = alldf_test\n",
    "test_outcomes  = alldf.ix[alldf_test.index]['OutcomeType']\n",
    "\n",
    "classifier = tree.DecisionTreeClassifier()\n",
    "parameters = {\n",
    "    'max_depth' : list(range(1,10)),\n",
    "    'min_samples_split' : list(range(2,10))\n",
    "}\n",
    "gridsearcher = sk.grid_search.GridSearchCV(\n",
    "    classifier,parameters,scoring='log_loss',n_jobs=8)\n",
    "gridsearcher.fit(train_features,train_outcomes)\n",
    "gridsearcher.best_params_\n",
    "gridsearcher.best_score_"
   ]
  },
  {
   "cell_type": "code",
   "execution_count": null,
   "metadata": {
    "collapsed": false
   },
   "outputs": [],
   "source": [
    "# Full report.\n",
    "gridsearcher.grid_scores_"
   ]
  }
 ],
 "metadata": {
  "kernelspec": {
   "display_name": "Python 3",
   "language": "python",
   "name": "python3"
  },
  "language_info": {
   "codemirror_mode": {
    "name": "ipython",
    "version": 3
   },
   "file_extension": ".py",
   "mimetype": "text/x-python",
   "name": "python",
   "nbconvert_exporter": "python",
   "pygments_lexer": "ipython3",
   "version": "3.5.1+"
  }
 },
 "nbformat": 4,
 "nbformat_minor": 0
}
