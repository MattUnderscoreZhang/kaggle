{
 "cells": [
  {
   "cell_type": "code",
   "execution_count": 2,
   "metadata": {
    "collapsed": false
   },
   "outputs": [],
   "source": [
    "import numpy as np\n",
    "import pandas as pd\n",
    "import matplotlib.pyplot as plt\n",
    "%matplotlib inline\n",
    "\n",
    "from sklearn.cross_validation import train_test_split\n",
    "from sklearn.preprocessing import OneHotEncoder\n",
    "\n",
    "from sklearn.linear_model import LogisticRegression\n",
    "from sklearn import ensemble\n",
    "from sklearn.pipeline import make_pipeline\n",
    "#from sklearn.neural_network import BernoulliRBM\n",
    "\n",
    "from sklearn.metrics import accuracy_score,log_loss\n",
    "\n",
    "import sys\n",
    "sys.path.insert(0,\"libs\")\n",
    "import data_cleaning as dc"
   ]
  },
  {
   "cell_type": "markdown",
   "metadata": {},
   "source": [
    "### Split Given Training Data into Training and Test Sets"
   ]
  },
  {
   "cell_type": "code",
   "execution_count": 3,
   "metadata": {
    "collapsed": true
   },
   "outputs": [],
   "source": [
    "train = pd.read_csv(\"data/train.csv\")\n",
    "\n",
    "train = dc.massage_df(train)"
   ]
  },
  {
   "cell_type": "code",
   "execution_count": 4,
   "metadata": {
    "collapsed": false
   },
   "outputs": [],
   "source": [
    "train[\"age_type\"] = train.age_numeric_days.apply(dc.age_type)"
   ]
  },
  {
   "cell_type": "code",
   "execution_count": 5,
   "metadata": {
    "collapsed": false
   },
   "outputs": [],
   "source": [
    "# split\n",
    "mytrain,mytest = train_test_split(train,test_size=0.4)\n",
    "# furthur split training set\n",
    "mytrain,mytrain1 = train_test_split(mytrain,test_size=0.4)"
   ]
  },
  {
   "cell_type": "markdown",
   "metadata": {},
   "source": [
    "### Choose Features and Perform Linear Regression (Logit)"
   ]
  },
  {
   "cell_type": "code",
   "execution_count": 7,
   "metadata": {
    "collapsed": true
   },
   "outputs": [],
   "source": [
    "def split_feature_outcome(df,feature_set,outcome_set):\n",
    "    features = pd.get_dummies(df[feature_set])\n",
    "    outcomes = df[outcome_set]\n",
    "    return features,outcomes\n",
    "# end def split_feature_outcome"
   ]
  },
  {
   "cell_type": "code",
   "execution_count": 8,
   "metadata": {
    "collapsed": false
   },
   "outputs": [],
   "source": [
    "features = [\"AnimalType\",\"neuter_status\",\"age_type\",'is_weekend']\n",
    "split_it = lambda df:split_feature_outcome(df,features,\"OutcomeType\")\n",
    "\n",
    "mytrain_features,mytrain_outcomes   = split_it(mytrain)\n",
    "mytrain_features1,mytrain_outcomes1 = split_it(mytrain1)\n",
    "mytest_features,mytest_outcomes     = split_it(mytest)"
   ]
  },
  {
   "cell_type": "code",
   "execution_count": 9,
   "metadata": {
    "collapsed": true
   },
   "outputs": [],
   "source": [
    "grd = ensemble.GradientBoostingClassifier(n_estimators=5)\n",
    "grd_enc = OneHotEncoder()\n",
    "grd_lm = LogisticRegression()"
   ]
  },
  {
   "cell_type": "code",
   "execution_count": 10,
   "metadata": {
    "collapsed": false
   },
   "outputs": [],
   "source": [
    "grd.fit(mytrain_features,mytrain_outcomes);"
   ]
  },
  {
   "cell_type": "code",
   "execution_count": 11,
   "metadata": {
    "collapsed": true
   },
   "outputs": [],
   "source": [
    "grd_enc.fit(grd.apply(mytrain_features)[:, :, 0]);"
   ]
  },
  {
   "cell_type": "code",
   "execution_count": 12,
   "metadata": {
    "collapsed": false
   },
   "outputs": [],
   "source": [
    "grd_lm.fit(grd_enc.transform(grd.apply(mytrain_features1)[:, :, 0])\n",
    "           , mytrain_outcomes1);"
   ]
  },
  {
   "cell_type": "markdown",
   "metadata": {},
   "source": [
    "### Measure Success/Failure"
   ]
  },
  {
   "cell_type": "markdown",
   "metadata": {},
   "source": [
    "50 percentile on Kaggle has log-loss = 0.84434"
   ]
  },
  {
   "cell_type": "code",
   "execution_count": 13,
   "metadata": {
    "collapsed": false
   },
   "outputs": [
    {
     "name": "stdout",
     "output_type": "stream",
     "text": [
      "accuracy = 0.63 \n",
      "log-loss = 0.977\n"
     ]
    }
   ],
   "source": [
    "prediction_probabilities = grd_lm.predict_proba(\n",
    "    grd_enc.transform(grd.apply(mytest_features)[:, :, 0])\n",
    ")\n",
    "predictions = grd_lm.predict(\n",
    "    grd_enc.transform(grd.apply(mytest_features)[:, :, 0])\n",
    ")\n",
    "# check performance\n",
    "acc = accuracy_score(mytest_outcomes, predictions)\n",
    "los = log_loss( pd.get_dummies( mytest.OutcomeType ).values, prediction_probabilities)\n",
    "print(\"accuracy = {0:1.2f} \\nlog-loss = {1:1.3f}\".format(acc,los) )"
   ]
  }
 ],
 "metadata": {
  "kernelspec": {
   "display_name": "Python 3",
   "language": "python",
   "name": "python3"
  },
  "language_info": {
   "codemirror_mode": {
    "name": "ipython",
    "version": 3
   },
   "file_extension": ".py",
   "mimetype": "text/x-python",
   "name": "python",
   "nbconvert_exporter": "python",
   "pygments_lexer": "ipython3",
   "version": "3.5.1+"
  }
 },
 "nbformat": 4,
 "nbformat_minor": 0
}
