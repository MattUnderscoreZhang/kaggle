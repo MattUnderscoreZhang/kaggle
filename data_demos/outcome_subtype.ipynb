{
 "cells": [
  {
   "cell_type": "code",
   "execution_count": 1,
   "metadata": {
    "collapsed": true
   },
   "outputs": [],
   "source": [
    "import pandas as pd\n",
    "import matplotlib.pyplot as plt\n",
    "%matplotlib inline"
   ]
  },
  {
   "cell_type": "code",
   "execution_count": 2,
   "metadata": {
    "collapsed": true
   },
   "outputs": [],
   "source": [
    "# read and split data \n",
    "train = pd.read_csv(\"../data/train.csv\")\n",
    "dogs = train[train.AnimalType==\"Dog\"]\n",
    "cats = train[train.AnimalType==\"Cat\"]"
   ]
  },
  {
   "cell_type": "code",
   "execution_count": 3,
   "metadata": {
    "collapsed": true
   },
   "outputs": [],
   "source": [
    "import sys\n",
    "sys.path.insert(0,\"../libs/\")\n",
    "from data_cleaning import percent_outcome\n",
    "from visualize import bar_percentage"
   ]
  },
  {
   "cell_type": "code",
   "execution_count": 4,
   "metadata": {
    "collapsed": false
   },
   "outputs": [
    {
     "name": "stdout",
     "output_type": "stream",
     "text": [
      "\n",
      "\n",
      "Euthanasia\n",
      "--------\n",
      "OutcomeSubtype\n",
      "Aggressive             0.205788\n",
      "Behavior               0.055305\n",
      "Court/Investigation    0.003859\n",
      "Medical                0.042444\n",
      "Rabies Risk            0.047588\n",
      "Suffering              0.644373\n",
      "dtype: float64\n",
      "\n",
      "Adoption\n",
      "--------\n",
      "OutcomeSubtype\n",
      "Barn              0.000093\n",
      "Foster            0.167146\n",
      "Offsite           0.015322\n",
      "dtype: float64\n",
      "\n",
      "Transfer\n",
      "--------\n",
      "OutcomeSubtype\n",
      "Barn              0.000106\n",
      "Partner           0.829548\n",
      "SCRP              0.169709\n",
      "dtype: float64\n",
      "\n",
      "Died\n",
      "--------\n",
      "OutcomeSubtype\n",
      "At Vet            0.020305\n",
      "Enroute           0.040609\n",
      "In Foster         0.263959\n",
      "In Kennel         0.578680\n",
      "In Surgery        0.015228\n",
      "dtype: float64\n"
     ]
    }
   ],
   "source": [
    "for outcome in train.OutcomeType.unique():\n",
    "    print \n",
    "    if (outcome != \"Return_to_owner\"):\n",
    "        # Return_to_owner has no subtype\n",
    "        print outcome\n",
    "        print \"--------\"\n",
    "        print percent_outcome( train[ train.OutcomeType == str(outcome) ] ,\"OutcomeSubtype\")\n",
    "    # end if not Return_to_owner\n",
    "# end for "
   ]
  }
 ],
 "metadata": {
  "kernelspec": {
   "display_name": "Python 2",
   "language": "python",
   "name": "python2"
  },
  "language_info": {
   "codemirror_mode": {
    "name": "ipython",
    "version": 2
   },
   "file_extension": ".py",
   "mimetype": "text/x-python",
   "name": "python",
   "nbconvert_exporter": "python",
   "pygments_lexer": "ipython2",
   "version": "2.7.6"
  }
 },
 "nbformat": 4,
 "nbformat_minor": 0
}
