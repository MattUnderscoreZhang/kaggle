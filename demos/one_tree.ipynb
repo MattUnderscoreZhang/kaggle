{
 "cells": [
  {
   "cell_type": "code",
   "execution_count": 1,
   "metadata": {
    "collapsed": false
   },
   "outputs": [],
   "source": [
    "import pandas as pd\n",
    "import numpy as np\n",
    "import matplotlib.pyplot as plt\n",
    "import explore as expl\n",
    "%matplotlib inline\n",
    "from imp import reload\n",
    "import logloss as bof\n",
    "from sklearn import naive_bayes, tree, ensemble\n",
    "from sklearn.externals.six import StringIO\n",
    "from sklearn.metrics import accuracy_score, log_loss\n",
    "\n",
    "import sys\n",
    "sys.path.insert(0,'../libs/')\n",
    "import data_cleaning as dc"
   ]
  },
  {
   "cell_type": "code",
   "execution_count": 2,
   "metadata": {
    "collapsed": false
   },
   "outputs": [],
   "source": [
    "reload(expl)\n",
    "alldf, dummydf = expl.load_data()\n",
    "\n",
    "# splits data.\n",
    "rows = np.random.choice(dummydf.index.values,\n",
    "  int( round(len(dummydf)*.6) ), replace=False)\n",
    "alldf_train = dummydf.ix[rows]\n",
    "alldf_test = dummydf.drop(rows)\n",
    "alldf_dummies_train = dummydf.ix[rows]\n",
    "alldf_dummies_test = dummydf.drop(rows)"
   ]
  },
  {
   "cell_type": "code",
   "execution_count": 3,
   "metadata": {
    "collapsed": false
   },
   "outputs": [
    {
     "data": {
      "text/plain": [
       "Transfer           5505\n",
       "Adoption           4272\n",
       "Euthanasia          710\n",
       "Return_to_owner     500\n",
       "Died                147\n",
       "Name: OutcomeType, dtype: int64"
      ]
     },
     "execution_count": 3,
     "metadata": {},
     "output_type": "execute_result"
    }
   ],
   "source": [
    "alldf['OutcomeType'].value_counts()"
   ]
  },
  {
   "cell_type": "code",
   "execution_count": 4,
   "metadata": {
    "collapsed": false
   },
   "outputs": [
    {
     "name": "stdout",
     "output_type": "stream",
     "text": [
      "Accuracy: 0.729480548685\n",
      "\n",
      "Predictions:\n",
      " Adoption           2493\n",
      "Transfer           1940\n",
      "Euthanasia           12\n",
      "Return_to_owner       2\n",
      "dtype: int64\n",
      "\n",
      "Log loss: 0.854957252733\n"
     ]
    }
   ],
   "source": [
    "# Naive Bayes\n",
    "train_features = alldf_dummies_train\n",
    "train_outcomes = alldf.ix[alldf_dummies_train.index]['OutcomeType']\n",
    "test_features  = alldf_dummies_test\n",
    "test_outcomes  = alldf.ix[alldf_dummies_test.index]['OutcomeType']\n",
    "\n",
    "bnb = naive_bayes.BernoulliNB()\n",
    "bnb.fit(train_features,train_outcomes)\n",
    "\n",
    "predictions = bnb.predict(test_features)\n",
    "print(\"Accuracy:\",accuracy_score(test_outcomes,predictions))\n",
    "print()\n",
    "print(\"Predictions:\\n\",pd.Series(predictions).value_counts())\n",
    "probabilities = bnb.predict_proba(test_features)\n",
    "print()\n",
    "print(\"Log loss:\",log_loss(test_outcomes,probabilities))"
   ]
  },
  {
   "cell_type": "code",
   "execution_count": 5,
   "metadata": {
    "collapsed": false
   },
   "outputs": [
    {
     "name": "stdout",
     "output_type": "stream",
     "text": [
      "Accuracy: 0.761187317293\n",
      "\n",
      "Predictions:\n",
      " Transfer           2501\n",
      "Adoption           1903\n",
      "Euthanasia           40\n",
      "Return_to_owner       2\n",
      "Died                  1\n",
      "dtype: int64\n",
      "\n",
      "Log loss: 0.810292688571\n"
     ]
    }
   ],
   "source": [
    "# Decision Tree.\n",
    "# splits data.\n",
    "rows = np.random.choice(dummydf.index.values,\n",
    "  int( round(len(dummydf)*.6) ), replace=False)\n",
    "alldf_train = dummydf.ix[rows]\n",
    "alldf_test = dummydf.drop(rows)\n",
    "alldf_dummies_train = dummydf.ix[rows]\n",
    "alldf_dummies_test = dummydf.drop(rows)\n",
    "\n",
    "train_features = alldf_train\n",
    "train_outcomes = alldf.ix[alldf_train.index]['OutcomeType']\n",
    "test_features  = alldf_test\n",
    "test_outcomes  = alldf.ix[alldf_test.index]['OutcomeType']\n",
    "\n",
    "bnb = tree.DecisionTreeClassifier(max_depth=6)\n",
    "bnb.fit(train_features,train_outcomes)\n",
    "\n",
    "predictions = bnb.predict(test_features)\n",
    "print(\"Accuracy:\",accuracy_score(test_outcomes,predictions))\n",
    "print()\n",
    "print(\"Predictions:\\n\",pd.Series(predictions).value_counts())\n",
    "probabilities = bnb.predict_proba(test_features)\n",
    "print()\n",
    "print(\"Log loss:\",log_loss(test_outcomes,probabilities))\n",
    "from sklearn.externals.six import StringIO\n",
    "with open(\"iris.dot\", 'w') as f:\n",
    "    f = tree.export_graphviz(\n",
    "        bnb,\n",
    "        feature_names=alldf_train.columns,\n",
    "        class_names=bnb.classes_,\n",
    "        out_file=f)"
   ]
  },
  {
   "cell_type": "code",
   "execution_count": 11,
   "metadata": {
    "collapsed": false
   },
   "outputs": [],
   "source": [
    "# Series of trees, try different depths.\n",
    "accuracies, log_losses = [],[]\n",
    "max_depths = range(1,10)\n",
    "for max_depth in max_depths:\n",
    "    train_features = alldf_train\n",
    "    train_outcomes = alldf.ix[alldf_train.index]['OutcomeType']\n",
    "    test_features  = alldf_test\n",
    "    test_outcomes  = alldf.ix[alldf_test.index]['OutcomeType']\n",
    "\n",
    "    bnb = tree.DecisionTreeClassifier(max_depth=max_depth)\n",
    "    bnb.fit(train_features,train_outcomes,)\n",
    "\n",
    "    predictions = bnb.predict(test_features)\n",
    "    accuracies.append(accuracy_score(test_outcomes,predictions))\n",
    "    probabilities = bnb.predict_proba(test_features)\n",
    "    log_losses.append(log_loss(test_outcomes,probabilities))\n"
   ]
  },
  {
   "cell_type": "code",
   "execution_count": 12,
   "metadata": {
    "collapsed": false
   },
   "outputs": [
    {
     "data": {
      "image/png": "[encoded data removed]",
      "text/plain": [
       "<matplotlib.figure.Figure at 0x7f62e69530f0>"
      ]
     },
     "metadata": {},
     "output_type": "display_data"
    }
   ],
   "source": [
    "# Check performances of trees.\n",
    "fig,ax = plt.subplots(3,1)\n",
    "ax[0].plot(max_depths,accuracies)\n",
    "ax[1].plot(max_depths,log_losses)\n",
    "ax[2].plot(accuracies,log_losses,'o')\n",
    "for a in ax: pt.fix_lims(a)\n",
    "fig.set_size_inches(4,8)\n",
    "fig.tight_layout()"
   ]
  }
 ],
 "metadata": {
  "kernelspec": {
   "display_name": "Python 3",
   "language": "python",
   "name": "python3"
  },
  "language_info": {
   "codemirror_mode": {
    "name": "ipython",
    "version": 3
   },
   "file_extension": ".py",
   "mimetype": "text/x-python",
   "name": "python",
   "nbconvert_exporter": "python",
   "pygments_lexer": "ipython3",
   "version": "3.4.3+"
  }
 },
 "nbformat": 4,
 "nbformat_minor": 0
}
