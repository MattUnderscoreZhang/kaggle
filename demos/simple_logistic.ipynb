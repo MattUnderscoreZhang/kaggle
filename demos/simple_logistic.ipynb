{
 "cells": [
  {
   "cell_type": "code",
   "execution_count": 8,
   "metadata": {
    "collapsed": false
   },
   "outputs": [],
   "source": [
    "import numpy as np\n",
    "import pandas as pd\n",
    "import matplotlib.pyplot as plt\n",
    "%matplotlib inline\n",
    "\n",
    "from sklearn.linear_model import LogisticRegression\n",
    "from sklearn.metrics import accuracy_score,log_loss"
   ]
  },
  {
   "cell_type": "markdown",
   "metadata": {},
   "source": [
    "### Split Given Training Data into Training and Test Sets"
   ]
  },
  {
   "cell_type": "code",
   "execution_count": 2,
   "metadata": {
    "collapsed": true
   },
   "outputs": [],
   "source": [
    "train = pd.read_csv(\"data/train.csv\")\n",
    "\n",
    "# separate out neutered status from sex\n",
    "train = train.ix[ train.SexuponOutcome.dropna().index ]\n",
    "train[\"neutered_status\"] = train.SexuponOutcome.apply(lambda x:x.split()[0])\n",
    "\n",
    "# split into test and train subsets\n",
    "frac = .6 # use 60% data for training\n",
    "test_rows = np.random.choice(train.index.values\n",
    "            ,int(round( len(train)*frac )),replace=False )\n",
    "mytrain = train.ix[test_rows]\n",
    "mytest  = train.drop(test_rows)"
   ]
  },
  {
   "cell_type": "markdown",
   "metadata": {},
   "source": [
    "### Choose Features and Perform Linear Regression (Logit)"
   ]
  },
  {
   "cell_type": "code",
   "execution_count": 3,
   "metadata": {
    "collapsed": false
   },
   "outputs": [],
   "source": [
    "# prepare training data\n",
    "features = [\"AnimalType\",'neutered_status']\n",
    "\n",
    "mytrain_features = pd.get_dummies(mytrain[features])\n",
    "mytrain_outcomes = mytrain.OutcomeType\n",
    "mytest_features = pd.get_dummies(mytest[features])\n",
    "mytest_outcomes = mytest.OutcomeType\n",
    "\n",
    "# train\n",
    "classifier = LogisticRegression()\n",
    "classifier.fit(mytrain_features,mytrain_outcomes);"
   ]
  },
  {
   "cell_type": "markdown",
   "metadata": {},
   "source": [
    "### Measure Success/Failure"
   ]
  },
  {
   "cell_type": "markdown",
   "metadata": {},
   "source": [
    "50 percentile on Kaggle has log-loss = 0.84434"
   ]
  },
  {
   "cell_type": "code",
   "execution_count": 4,
   "metadata": {
    "collapsed": false
   },
   "outputs": [
    {
     "name": "stdout",
     "output_type": "stream",
     "text": [
      "accuracy = 0.61 \n",
      "log-loss = 0.996\n"
     ]
    }
   ],
   "source": [
    "predictions = classifier.predict(mytest_features)\n",
    "prediction_probabilities = classifier.predict_proba(mytest_features)\n",
    "\n",
    "# check performance\n",
    "acc = accuracy_score(mytest_outcomes, predictions)\n",
    "los = log_loss( pd.get_dummies( mytest.OutcomeType ).values, prediction_probabilities)\n",
    "print(\"accuracy = {0:1.2f} \\nlog-loss = {1:1.3f}\".format(acc,los) )"
   ]
  },
  {
   "cell_type": "markdown",
   "metadata": {},
   "source": [
    "### Specular the Reason of Success/Failure"
   ]
  },
  {
   "cell_type": "code",
   "execution_count": 5,
   "metadata": {
    "collapsed": false
   },
   "outputs": [
    {
     "data": {
      "text/plain": [
       "Adoption           6467\n",
       "Transfer           5595\n",
       "Return_to_owner    2900\n",
       "Euthanasia          949\n",
       "Died                126\n",
       "Name: OutcomeType, dtype: int64"
      ]
     },
     "execution_count": 5,
     "metadata": {},
     "output_type": "execute_result"
    }
   ],
   "source": [
    "mytrain_outcomes.value_counts()"
   ]
  },
  {
   "cell_type": "code",
   "execution_count": 6,
   "metadata": {
    "collapsed": false
   },
   "outputs": [
    {
     "data": {
      "text/plain": [
       "Adoption    7461\n",
       "Transfer    3230\n",
       "dtype: int64"
      ]
     },
     "execution_count": 6,
     "metadata": {},
     "output_type": "execute_result"
    }
   ],
   "source": [
    "pd.Series(predictions).value_counts()"
   ]
  },
  {
   "cell_type": "code",
   "execution_count": 7,
   "metadata": {
    "collapsed": false
   },
   "outputs": [
    {
     "data": {
      "text/plain": [
       "Adoption           4302\n",
       "Transfer           3827\n",
       "Return_to_owner    1885\n",
       "Euthanasia          606\n",
       "Died                 71\n",
       "Name: OutcomeType, dtype: int64"
      ]
     },
     "execution_count": 7,
     "metadata": {},
     "output_type": "execute_result"
    }
   ],
   "source": [
    "mytest_outcomes.value_counts()"
   ]
  },
  {
   "cell_type": "markdown",
   "metadata": {},
   "source": [
    "logistic regression only captures the most dominant input/output correlation?"
   ]
  }
 ],
 "metadata": {
  "kernelspec": {
   "display_name": "Python 3",
   "language": "python",
   "name": "python3"
  },
  "language_info": {
   "codemirror_mode": {
    "name": "ipython",
    "version": 3
   },
   "file_extension": ".py",
   "mimetype": "text/x-python",
   "name": "python",
   "nbconvert_exporter": "python",
   "pygments_lexer": "ipython3",
   "version": "3.5.1+"
  }
 },
 "nbformat": 4,
 "nbformat_minor": 0
}
