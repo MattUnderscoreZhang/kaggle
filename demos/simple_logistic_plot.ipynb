{
 "cells": [
  {
   "cell_type": "code",
   "execution_count": 2,
   "metadata": {
    "collapsed": false
   },
   "outputs": [],
   "source": [
    "import numpy as np\n",
    "import pandas as pd\n",
    "import matplotlib.pyplot as plt\n",
    "%matplotlib inline\n",
    "\n",
    "from sklearn.linear_model import LogisticRegression\n",
    "from sklearn.metrics import accuracy_score,log_loss\n",
    "\n",
    "import sys\n",
    "sys.path.insert(0,\"libs\")\n",
    "import data_cleaning as dc"
   ]
  },
  {
   "cell_type": "markdown",
   "metadata": {},
   "source": [
    "### Split Given Training Data into Training and Test Sets"
   ]
  },
  {
   "cell_type": "code",
   "execution_count": 3,
   "metadata": {
    "collapsed": true
   },
   "outputs": [],
   "source": [
    "train = pd.read_csv(\"data/train.csv\")\n",
    "\n",
    "train = dc.massage_df(train)"
   ]
  },
  {
   "cell_type": "code",
   "execution_count": 4,
   "metadata": {
    "collapsed": false
   },
   "outputs": [],
   "source": [
    "def age_type(age_in_days):\n",
    "    age_category_in_days = [32,185,365,3650] # < 1 month, < 6 months, < 1 year, < 10 years\n",
    "    young = 32\n",
    "    old   = 1000\n",
    "    if age_in_days < young:\n",
    "        return \"young\"\n",
    "    elif age_in_days < old:\n",
    "        return \"middle\"\n",
    "    else:\n",
    "        return \"old\"\n",
    "    # end if\n",
    "# end def age_type\n",
    "train[\"age_type\"] = train.age_numeric_days.apply(age_type)"
   ]
  },
  {
   "cell_type": "code",
   "execution_count": 5,
   "metadata": {
    "collapsed": true
   },
   "outputs": [],
   "source": [
    "# split all available data into test and train subsets\n",
    "frac = .6 # use 60% data for training\n",
    "test_rows = np.random.choice(train.index.values\n",
    "            ,int(round( len(train)*frac )),replace=False )\n",
    "mytrain = train.ix[test_rows]\n",
    "mytest  = train.drop(test_rows)"
   ]
  },
  {
   "cell_type": "markdown",
   "metadata": {},
   "source": [
    "### Choose Features and Perform Linear Regression (Logit)"
   ]
  },
  {
   "cell_type": "code",
   "execution_count": 9,
   "metadata": {
    "collapsed": false
   },
   "outputs": [],
   "source": [
    "# prepare training data\n",
    "\n",
    "# here is a list of all useful features we created (from train.columns)\n",
    "#features = [\"neuter_status\",\"AnimalType\",'day_of_week', 'day_of_month', 'day_of_year', 'season',\n",
    "#       'month', 'has_Lilac', 'has_Tortie', 'has_Blue', 'has_Gray', 'has_Brown',\n",
    "#       'has_Point', 'has_Black', 'has_White', 'has_Tabby', 'has_Agouti',\n",
    "#       'has_Orange', 'has_Calico', 'has_Lynx', 'has_Tan', 'age_type']\n",
    "\n",
    "features = [\"AnimalType\",\"neuter_status\"]\n",
    "\n",
    "mytrain_features = pd.get_dummies(mytrain[features])\n",
    "mytrain_outcomes = mytrain.OutcomeType\n",
    "mytest_features = pd.get_dummies(mytest[features])\n",
    "mytest_outcomes = mytest.OutcomeType\n",
    "\n",
    "# train\n",
    "classifier = LogisticRegression()\n",
    "classifier.fit(mytrain_features,mytrain_outcomes);"
   ]
  },
  {
   "cell_type": "markdown",
   "metadata": {},
   "source": [
    "### Measure Success/Failure"
   ]
  },
  {
   "cell_type": "markdown",
   "metadata": {},
   "source": [
    "50 percentile on Kaggle has log-loss = 0.84434"
   ]
  },
  {
   "cell_type": "code",
   "execution_count": 10,
   "metadata": {
    "collapsed": false
   },
   "outputs": [
    {
     "name": "stdout",
     "output_type": "stream",
     "text": [
      "accuracy = 0.61 \n",
      "log-loss = 0.988\n"
     ]
    }
   ],
   "source": [
    "predictions = classifier.predict(mytest_features)\n",
    "prediction_probabilities = classifier.predict_proba(mytest_features)\n",
    "\n",
    "# check performance\n",
    "acc = accuracy_score(mytest_outcomes, predictions)\n",
    "los = log_loss( pd.get_dummies( mytest.OutcomeType ).values, prediction_probabilities)\n",
    "print(\"accuracy = {0:1.2f} \\nlog-loss = {1:1.3f}\".format(acc,los) )"
   ]
  },
  {
   "cell_type": "markdown",
   "metadata": {},
   "source": [
    "### Specular the Reason of Success/Failure"
   ]
  },
  {
   "cell_type": "code",
   "execution_count": 11,
   "metadata": {
    "collapsed": false
   },
   "outputs": [
    {
     "data": {
      "text/plain": [
       "Adoption           6421\n",
       "Transfer           5643\n",
       "Return_to_owner    2908\n",
       "Euthanasia          950\n",
       "Died                115\n",
       "Name: OutcomeType, dtype: int64"
      ]
     },
     "execution_count": 11,
     "metadata": {},
     "output_type": "execute_result"
    }
   ],
   "source": [
    "mytrain_outcomes.value_counts()"
   ]
  },
  {
   "cell_type": "code",
   "execution_count": 12,
   "metadata": {
    "collapsed": false
   },
   "outputs": [
    {
     "data": {
      "text/plain": [
       "Adoption    7434\n",
       "Transfer    3258\n",
       "dtype: int64"
      ]
     },
     "execution_count": 12,
     "metadata": {},
     "output_type": "execute_result"
    }
   ],
   "source": [
    "pd.Series(predictions).value_counts()"
   ]
  },
  {
   "cell_type": "code",
   "execution_count": 13,
   "metadata": {
    "collapsed": false
   },
   "outputs": [
    {
     "data": {
      "text/plain": [
       "Adoption           4348\n",
       "Transfer           3779\n",
       "Return_to_owner    1878\n",
       "Euthanasia          605\n",
       "Died                 82\n",
       "Name: OutcomeType, dtype: int64"
      ]
     },
     "execution_count": 13,
     "metadata": {},
     "output_type": "execute_result"
    }
   ],
   "source": [
    "mytest_outcomes.value_counts()"
   ]
  },
  {
   "cell_type": "markdown",
   "metadata": {},
   "source": [
    "logistic regression only captures the most dominant input/output correlation?"
   ]
  },
  {
   "cell_type": "code",
   "execution_count": 14,
   "metadata": {
    "collapsed": false
   },
   "outputs": [
    {
     "data": {
      "text/plain": [
       "<matplotlib.colorbar.Colorbar at 0x7f8fb9654898>"
      ]
     },
     "execution_count": 14,
     "metadata": {},
     "output_type": "execute_result"
    },
    {
     "data": {
      "image/png": "[encoded data removed]",
      "text/plain": [
       "<matplotlib.figure.Figure at 0x7f8f7bf05198>"
      ]
     },
     "metadata": {},
     "output_type": "display_data"
    }
   ],
   "source": [
    "fig = plt.figure()\n",
    "ax  = fig.add_subplot(111)\n",
    "\n",
    "pcm = ax.pcolormesh(classifier.coef_)\n",
    "xrange = ax.get_xticks()\n",
    "yrange = ax.get_yticks()\n",
    "\n",
    "ax.set_yticklabels(classifier.classes_,rotation=45)\n",
    "ax.set_xticklabels(mytrain_features.columns,rotation=45)\n",
    "\n",
    "fig.colorbar(pcm)"
   ]
  },
  {
   "cell_type": "code",
   "execution_count": null,
   "metadata": {
    "collapsed": true
   },
   "outputs": [],
   "source": []
  }
 ],
 "metadata": {
  "kernelspec": {
   "display_name": "Python 3",
   "language": "python",
   "name": "python3"
  },
  "language_info": {
   "codemirror_mode": {
    "name": "ipython",
    "version": 3
   },
   "file_extension": ".py",
   "mimetype": "text/x-python",
   "name": "python",
   "nbconvert_exporter": "python",
   "pygments_lexer": "ipython3",
   "version": "3.5.1+"
  }
 },
 "nbformat": 4,
 "nbformat_minor": 0
}
