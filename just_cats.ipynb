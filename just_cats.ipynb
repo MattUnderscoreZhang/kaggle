{
 "cells": [
  {
   "cell_type": "code",
   "execution_count": 1,
   "metadata": {
    "collapsed": false
   },
   "outputs": [],
   "source": [
    "import numpy as np\n",
    "import pandas as pd\n",
    "import matplotlib.pyplot as plt\n",
    "%matplotlib inline\n",
    "\n",
    "from sklearn import tree\n",
    "from sklearn.linear_model import LogisticRegression\n",
    "from sklearn.metrics import accuracy_score,log_loss\n",
    "\n",
    "import sys\n",
    "sys.path.insert(0,\"libs\")\n",
    "import data_cleaning as dc"
   ]
  },
  {
   "cell_type": "code",
   "execution_count": 2,
   "metadata": {
    "collapsed": false
   },
   "outputs": [],
   "source": [
    "train = pd.read_csv(\"data/train.csv\")\n",
    "\n",
    "train = dc.massage_df(train)\n",
    "train = train[train.AnimalType==\"Cat\"]"
   ]
  },
  {
   "cell_type": "code",
   "execution_count": 3,
   "metadata": {
    "collapsed": false
   },
   "outputs": [],
   "source": [
    "# split all available data into test and train subsets\n",
    "frac = .6 # use 60% data for training\n",
    "test_rows = np.random.choice(train.index.values\n",
    "            ,int(round( len(train)*frac )),replace=False )\n",
    "mytrain = train.ix[test_rows]\n",
    "mytest  = train.drop(test_rows)"
   ]
  },
  {
   "cell_type": "code",
   "execution_count": 18,
   "metadata": {
    "collapsed": false
   },
   "outputs": [],
   "source": [
    "basic_features = ['age_numeric_years', 'neuter_status', 'sex'\n",
    "                  , 'mixed',\"has_name\",\"is_weekend\"]\n",
    "cat_features   = ['has_Lynx', 'has_Brown', 'has_White', 'has_Orange',\n",
    "   'has_Tabby', 'has_Tan', 'has_Gray', 'has_Calico', 'has_Blue',\n",
    "   'has_Agouti', 'has_Lilac', 'has_Tortie', 'has_Black', 'has_Point',\n",
    "   'catbreed']\n",
    "time_features = ['month', 'day_of_month', 'day_of_year',\n",
    "   'day_of_week', 'day_of_week_type', 'season' ]\n",
    "\n",
    "all_features = basic_features# + cat_features + time_features"
   ]
  },
  {
   "cell_type": "code",
   "execution_count": 19,
   "metadata": {
    "collapsed": false
   },
   "outputs": [
    {
     "name": "stdout",
     "output_type": "stream",
     "text": [
      "database utilization = 0.000000\n",
      "accuracy = 0.75 \n",
      "log-loss = 0.710\n"
     ]
    }
   ],
   "source": [
    "#features = [\"neuter_status\",\"age_numeric_days\",\"day_of_week_type\"]\n",
    "#features = np.random.choice(all_features,2,replace=False)\n",
    "#print(features)\n",
    "features = basic_features\n",
    "\n",
    "mytrain_features = pd.get_dummies(mytrain[features])\n",
    "print(\"database utilization = %f\" % \\\n",
    "      (len( mytrain_features.dropna() )/len(mytrain_features)) )\n",
    "mytrain_features = mytrain_features.dropna()\n",
    "mytrain_outcomes = mytrain.OutcomeType.ix[mytrain_features.index]\n",
    "mytest_features = pd.get_dummies(mytest[features]).dropna()\n",
    "mytest_outcomes = mytest.OutcomeType.ix[mytest_features.index]\n",
    "\n",
    "# train\n",
    "#classifier = LogisticRegression()\n",
    "classifier = tree.DecisionTreeClassifier(max_depth=3)\n",
    "classifier.fit(mytrain_features,mytrain_outcomes);\n",
    "\n",
    "predictions = classifier.predict(mytest_features)\n",
    "prediction_probabilities = classifier.predict_proba(mytest_features)\n",
    "\n",
    "# check performance\n",
    "acc = accuracy_score(mytest_outcomes, predictions)\n",
    "los = log_loss( pd.get_dummies( mytest_outcomes ).values, prediction_probabilities)\n",
    "print(\"accuracy = {0:1.2f} \\nlog-loss = {1:1.3f}\".format(acc,los) )"
   ]
  },
  {
   "cell_type": "code",
   "execution_count": null,
   "metadata": {
    "collapsed": true
   },
   "outputs": [],
   "source": []
  },
  {
   "cell_type": "code",
   "execution_count": null,
   "metadata": {
    "collapsed": true
   },
   "outputs": [],
   "source": []
  }
 ],
 "metadata": {
  "kernelspec": {
   "display_name": "Python 2",
   "language": "python",
   "name": "python2"
  },
  "language_info": {
   "codemirror_mode": {
    "name": "ipython",
    "version": 2
   },
   "file_extension": ".py",
   "mimetype": "text/x-python",
   "name": "python",
   "nbconvert_exporter": "python",
   "pygments_lexer": "ipython2",
   "version": "2.7.11+"
  }
 },
 "nbformat": 4,
 "nbformat_minor": 0
}
